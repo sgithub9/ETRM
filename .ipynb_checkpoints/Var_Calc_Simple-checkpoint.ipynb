{
 "cells": [
  {
   "cell_type": "code",
   "execution_count": 4,
   "metadata": {},
   "outputs": [],
   "source": [
    "# We will import the necessary libraries\n",
    "#type pip install yfinance & pip install tabulate to install the libraries\n",
    "import numpy as np\n",
    "import pandas as pd\n",
    "import yfinance as yf\n",
    "from tabulate import tabulate\n",
    "import scipy\n",
    "\n",
    "# Plotting\n",
    "import matplotlib.pyplot as plt\n",
    "import seaborn\n",
    "import matplotlib.mlab as mlab\n",
    "\n",
    "#Statistical calculation\n",
    "from scipy.stats import norm\n",
    "\n",
    "# For warnings suppression\n",
    "import warnings\n",
    "warnings.filterwarnings(\"ignore\")\n",
    "\n"
   ]
  },
  {
   "cell_type": "code",
   "execution_count": 13,
   "metadata": {},
   "outputs": [
    {
     "name": "stderr",
     "output_type": "stream",
     "text": [
      "[*********************100%%**********************]  1 of 1 completed\n"
     ]
    }
   ],
   "source": [
    "# We will import the daily data of Amazon from yahoo finance\n",
    "# Calculate daily returns\n",
    "df = yf.download(\"AMZN\", \"2020-01-01\", \"2022-01-01\")\n",
    "df = df[['Close']]\n",
    "df['returns'] = df.Close.pct_change()\n",
    "\n"
   ]
  },
  {
   "cell_type": "code",
   "execution_count": 14,
   "metadata": {},
   "outputs": [
    {
     "data": {
      "image/png": "[encoded data removed]",
      "text/plain": [
       "<Figure size 432x288 with 1 Axes>"
      ]
     },
     "metadata": {
      "needs_background": "light"
     },
     "output_type": "display_data"
    }
   ],
   "source": [
    "\n",
    "# Now we will determine the mean and standard deviation of the daily returns \n",
    "# Plot the normal curve against the daily returns\n",
    "\n",
    "mean = np.mean(df['returns'])\n",
    "std_dev = np.std(df['returns'])\n",
    "\n",
    "df['returns'].hist(bins=40, density=True, histtype='stepfilled', alpha=0.5)\n",
    "\n",
    "x = np.linspace(mean - 3*std_dev, mean + 3*std_dev, 100)\n",
    "plt.plot(x, scipy.stats.norm.pdf(x, mean, std_dev), \"r\")\n",
    "plt.show()"
   ]
  },
  {
   "cell_type": "code",
   "execution_count": 11,
   "metadata": {},
   "outputs": [
    {
     "name": "stdout",
     "output_type": "stream",
     "text": [
      "Confidence Level      Value at Risk\n",
      "------------------  ---------------\n",
      "95%                      -0.0319445\n",
      "99%                      -0.0457278\n"
     ]
    }
   ],
   "source": [
    "#Calculate VaR using point percentile function\n",
    "VaR_95 = norm.ppf(0.05, mean, std_dev)\n",
    "VaR_99 = norm.ppf(0.01, mean, std_dev)\n",
    "print (tabulate([['95%', VaR_95], ['99%', VaR_99]], headers = ['Confidence Level', 'Value at Risk']))"
   ]
  },
  {
   "cell_type": "code",
   "execution_count": null,
   "metadata": {},
   "outputs": [],
   "source": [
    "#The values above imply the confidence level of the particular “value” that is at a risk of being lost.\n",
    "#Hence, there is a 95% of confidence that the loss of value may be -0.0319445 and not more and there is 99% confidence that the loss will go to -0.0457278 and not beyond. Since all the values at risk are in negative, the probability is higher that the portfolio will return more than invested amount."
   ]
  },
  {
   "cell_type": "code",
   "execution_count": 15,
   "metadata": {},
   "outputs": [
    {
     "data": {
      "image/png": "[encoded data removed]",
      "text/plain": [
       "<Figure size 432x288 with 1 Axes>"
      ]
     },
     "metadata": {
      "needs_background": "light"
     },
     "output_type": "display_data"
    }
   ],
   "source": [
    "df = df.dropna()\n",
    "plt.hist(df.returns, bins=40)\n",
    "plt.xlabel('Returns')\n",
    "plt.ylabel('Frequency')\n",
    "plt.grid(True)\n",
    "plt.show()"
   ]
  },
  {
   "cell_type": "code",
   "execution_count": 17,
   "metadata": {},
   "outputs": [
    {
     "name": "stdout",
     "output_type": "stream",
     "text": [
      "Confidence Level      Value at Risk\n",
      "------------------  ---------------\n",
      "90%                      -0.0219604\n",
      "95%                      -0.0288828\n",
      "99%                      -0.0527869\n"
     ]
    }
   ],
   "source": [
    "# Calculate the VaR - Hist Sim approach\n",
    "VaR_90 = df['returns'].quantile(0.1)\n",
    "VaR_95 = df['returns'].quantile(0.05)\n",
    "VaR_99 = df['returns'].quantile(0.01)\n",
    "\n",
    "print (tabulate([['90%', VaR_90], ['95%', VaR_95], ['99%', VaR_99]], headers = ['Confidence Level', 'Value at Risk']))"
   ]
  },
  {
   "cell_type": "code",
   "execution_count": null,
   "metadata": {},
   "outputs": [],
   "source": [
    "\"\"\"The above values imply the confidence level of the particular “value” that is at a risk of being lost. Hence, the confidence rate is 90% that the loss may be -0.0219604 and not above.\n",
    "\n",
    "Similarly, there is a 95% of confidence that the loss of value may be -0.0288828 and nor beyond and there is 99% confidence that the loss will go to -0.0527869 but not further than that. Since all the values at risk are in negative, there is a higher probability of the portfolio returning more than invested amount.\n",
    "\n",
    "From the calculation above,  you can see there is a substantial difference in the percentage of value-at-risk calculated from historical simulation and variance-covariance approach. This tells us that the return distribution is not normal.\n",
    "\n",
    "Although both the approaches return negative values (indicating more probability of higher returns), there is still a difference in the figures of values which implies that the distribution is not normal.\"\"\""
   ]
  }
 ],
 "metadata": {
  "kernelspec": {
   "display_name": "Python 3",
   "language": "python",
   "name": "python3"
  },
  "language_info": {
   "codemirror_mode": {
    "name": "ipython",
    "version": 3
   },
   "file_extension": ".py",
   "mimetype": "text/x-python",
   "name": "python",
   "nbconvert_exporter": "python",
   "pygments_lexer": "ipython3",
   "version": "3.7.3"
  }
 },
 "nbformat": 4,
 "nbformat_minor": 2
}
